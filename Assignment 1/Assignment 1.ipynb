{
 "cells": [
  {
   "cell_type": "markdown",
   "id": "a082e568-019c-49c4-9c06-a468599ff25b",
   "metadata": {},
   "source": [
    "<h1>Assignment 1</h1>"
   ]
  },
  {
   "cell_type": "markdown",
   "id": "71bc358a-820d-4524-9ed5-52ffca7e2302",
   "metadata": {},
   "source": [
    "David Siegl"
   ]
  },
  {
   "cell_type": "code",
   "execution_count": 29,
   "id": "01444d87-0ea7-4c6f-8b23-f3302ea4471b",
   "metadata": {},
   "outputs": [],
   "source": [
    "import numpy as np\n",
    "import seaborn as sns\n",
    "import pandas as pd\n",
    "import tweepy\n",
    "import oauth2 as oauth\n",
    "import matplotlib.pyplot as plt\n",
    "from datetime import datetime"
   ]
  },
  {
   "cell_type": "code",
   "execution_count": 30,
   "id": "f3d3ff1c-44c1-4286-9633-ff3e006cf296",
   "metadata": {},
   "outputs": [],
   "source": [
    "api_key = \"X\"\n",
    "api_secret = \"X\"\n",
    "access_token_key = \"X-X\"\n",
    "access_token_secret = \"X\"\n",
    "\n",
    "auth = tweepy.OAuthHandler(api_key, api_secret)\n",
    "auth.set_access_token(access_token_key, access_token_secret)\n",
    "api = tweepy.API(auth,wait_on_rate_limit=True)"
   ]
  },
  {
   "cell_type": "code",
   "execution_count": 155,
   "id": "1902b507-0621-4a7d-83c2-2ac7e5bbd691",
   "metadata": {},
   "outputs": [],
   "source": [
    "tweets_list = tweepy.Cursor(api.search_tweets, q=\"#formula1\", tweet_mode='extended').items(200)"
   ]
  },
  {
   "cell_type": "code",
   "execution_count": 156,
   "id": "30cfe3be-a825-42ac-9c37-8559b60978cd",
   "metadata": {},
   "outputs": [],
   "source": [
    "output = []\n",
    "for tweet in tweets_list:\n",
    "    text = tweet._json[\"full_text\"]\n",
    "    favourite_count = tweet.favorite_count\n",
    "    retweet_count = tweet.retweet_count\n",
    "    created_at = tweet.created_at\n",
    "    language = tweet.lang\n",
    "    is_retweet = tweet.retweeted\n",
    "    user_name = tweet.user.screen_name\n",
    "    \n",
    "    line = {\"text\" : text, \"favourite_count\" : favourite_count, \"retweet_count\" : retweet_count, \"created_at\" : created_at, \"language\" : language, \"is_retweet\": is_retweet, \"user_name\" : user_name}\n",
    "    output.append(line)\n",
    "    \n",
    "df = pd.DataFrame(output)"
   ]
  },
  {
   "cell_type": "code",
   "execution_count": 157,
   "id": "de96c537-75dc-46c8-a905-5e3b73ed374f",
   "metadata": {},
   "outputs": [],
   "source": [
    "df.to_csv(\"tweets_formula1.csv\", header = [\"text\", \"favourite_count\", \"retweet_count\", \"created_at\", \"language\", \"is_retweet\", \"user_name\"])"
   ]
  },
  {
   "cell_type": "code",
   "execution_count": 158,
   "id": "958573a7-c732-478c-a992-f8d152dca1b4",
   "metadata": {},
   "outputs": [],
   "source": [
    "df = pd.read_csv(\"tweets_formula1.csv\", index_col = 0)"
   ]
  },
  {
   "cell_type": "code",
   "execution_count": 159,
   "id": "d1f183d5-98b2-41ad-b9df-11adea2a86ba",
   "metadata": {},
   "outputs": [
    {
     "data": {
      "text/plain": [
       "language\n",
       "ar       2\n",
       "de       2\n",
       "en     116\n",
       "es      23\n",
       "fr       6\n",
       "in      33\n",
       "it       2\n",
       "nl       2\n",
       "pt       5\n",
       "tl       1\n",
       "tr       6\n",
       "und      2\n",
       "Name: language, dtype: int64"
      ]
     },
     "execution_count": 159,
     "metadata": {},
     "output_type": "execute_result"
    }
   ],
   "source": [
    "df.groupby([\"language\"])[\"language\"].count()"
   ]
  },
  {
   "cell_type": "code",
   "execution_count": 160,
   "id": "2d839204-bc8d-4979-9af0-f5cf26193004",
   "metadata": {},
   "outputs": [
    {
     "data": {
      "text/html": [
       "<div>\n",
       "<style scoped>\n",
       "    .dataframe tbody tr th:only-of-type {\n",
       "        vertical-align: middle;\n",
       "    }\n",
       "\n",
       "    .dataframe tbody tr th {\n",
       "        vertical-align: top;\n",
       "    }\n",
       "\n",
       "    .dataframe thead th {\n",
       "        text-align: right;\n",
       "    }\n",
       "</style>\n",
       "<table border=\"1\" class=\"dataframe\">\n",
       "  <thead>\n",
       "    <tr style=\"text-align: right;\">\n",
       "      <th></th>\n",
       "      <th>text</th>\n",
       "      <th>favourite_count</th>\n",
       "      <th>retweet_count</th>\n",
       "      <th>created_at</th>\n",
       "      <th>language</th>\n",
       "      <th>is_retweet</th>\n",
       "      <th>user_name</th>\n",
       "    </tr>\n",
       "  </thead>\n",
       "  <tbody>\n",
       "    <tr>\n",
       "      <th>1</th>\n",
       "      <td>RT @TheUndercut2: WHAT. A. RACE!!!!! Can't wai...</td>\n",
       "      <td>0</td>\n",
       "      <td>1</td>\n",
       "      <td>2022-03-22 15:08:49+00:00</td>\n",
       "      <td>en</td>\n",
       "      <td>False</td>\n",
       "      <td>THC_IPA</td>\n",
       "    </tr>\n",
       "    <tr>\n",
       "      <th>4</th>\n",
       "      <td>RT @motorlat: ⁉️ Ha transcurrido la primera ca...</td>\n",
       "      <td>0</td>\n",
       "      <td>5</td>\n",
       "      <td>2022-03-22 15:08:42+00:00</td>\n",
       "      <td>es</td>\n",
       "      <td>False</td>\n",
       "      <td>marcelotade</td>\n",
       "    </tr>\n",
       "    <tr>\n",
       "      <th>5</th>\n",
       "      <td>We operate in state-of-the-art, vacuum coating...</td>\n",
       "      <td>0</td>\n",
       "      <td>0</td>\n",
       "      <td>2022-03-22 15:07:30+00:00</td>\n",
       "      <td>en</td>\n",
       "      <td>False</td>\n",
       "      <td>Diamondcoatings</td>\n",
       "    </tr>\n",
       "    <tr>\n",
       "      <th>6</th>\n",
       "      <td>Represent! @racerbia 👏🏻 \\n#WSeries #Formula1 h...</td>\n",
       "      <td>0</td>\n",
       "      <td>0</td>\n",
       "      <td>2022-03-22 15:06:34+00:00</td>\n",
       "      <td>en</td>\n",
       "      <td>False</td>\n",
       "      <td>F1Philippines</td>\n",
       "    </tr>\n",
       "    <tr>\n",
       "      <th>8</th>\n",
       "      <td>Hoy volvemos a twitch! Esta noche toca F1!\\n\\n...</td>\n",
       "      <td>0</td>\n",
       "      <td>0</td>\n",
       "      <td>2022-03-22 15:05:52+00:00</td>\n",
       "      <td>es</td>\n",
       "      <td>False</td>\n",
       "      <td>el_Clausulazo</td>\n",
       "    </tr>\n",
       "    <tr>\n",
       "      <th>...</th>\n",
       "      <td>...</td>\n",
       "      <td>...</td>\n",
       "      <td>...</td>\n",
       "      <td>...</td>\n",
       "      <td>...</td>\n",
       "      <td>...</td>\n",
       "      <td>...</td>\n",
       "    </tr>\n",
       "    <tr>\n",
       "      <th>194</th>\n",
       "      <td>RT @TheOneAndOniii: 📣 F1 Race predictions💭💭🤔\\n...</td>\n",
       "      <td>0</td>\n",
       "      <td>1</td>\n",
       "      <td>2022-03-22 14:18:17+00:00</td>\n",
       "      <td>en</td>\n",
       "      <td>False</td>\n",
       "      <td>f1fantwo</td>\n",
       "    </tr>\n",
       "    <tr>\n",
       "      <th>195</th>\n",
       "      <td>RT @racingsocialnft: Guys today we have an AMA...</td>\n",
       "      <td>0</td>\n",
       "      <td>155</td>\n",
       "      <td>2022-03-22 14:18:07+00:00</td>\n",
       "      <td>en</td>\n",
       "      <td>False</td>\n",
       "      <td>1234567Bt21</td>\n",
       "    </tr>\n",
       "    <tr>\n",
       "      <th>197</th>\n",
       "      <td>RT @Formula1arg1: #SaudiArabianGP🇸🇦 | 🚨Según e...</td>\n",
       "      <td>0</td>\n",
       "      <td>19</td>\n",
       "      <td>2022-03-22 14:17:47+00:00</td>\n",
       "      <td>es</td>\n",
       "      <td>False</td>\n",
       "      <td>Formula1arg1</td>\n",
       "    </tr>\n",
       "    <tr>\n",
       "      <th>198</th>\n",
       "      <td>RT @racingsocialnft: Guys today we have an AMA...</td>\n",
       "      <td>0</td>\n",
       "      <td>155</td>\n",
       "      <td>2022-03-22 14:17:46+00:00</td>\n",
       "      <td>en</td>\n",
       "      <td>False</td>\n",
       "      <td>Drmdwn</td>\n",
       "    </tr>\n",
       "    <tr>\n",
       "      <th>199</th>\n",
       "      <td>RT @racingsocialnft: Guys today we have an AMA...</td>\n",
       "      <td>0</td>\n",
       "      <td>155</td>\n",
       "      <td>2022-03-22 14:17:39+00:00</td>\n",
       "      <td>en</td>\n",
       "      <td>False</td>\n",
       "      <td>yniemey</td>\n",
       "    </tr>\n",
       "  </tbody>\n",
       "</table>\n",
       "<p>147 rows × 7 columns</p>\n",
       "</div>"
      ],
      "text/plain": [
       "                                                  text  favourite_count  \\\n",
       "1    RT @TheUndercut2: WHAT. A. RACE!!!!! Can't wai...                0   \n",
       "4    RT @motorlat: ⁉️ Ha transcurrido la primera ca...                0   \n",
       "5    We operate in state-of-the-art, vacuum coating...                0   \n",
       "6    Represent! @racerbia 👏🏻 \\n#WSeries #Formula1 h...                0   \n",
       "8    Hoy volvemos a twitch! Esta noche toca F1!\\n\\n...                0   \n",
       "..                                                 ...              ...   \n",
       "194  RT @TheOneAndOniii: 📣 F1 Race predictions💭💭🤔\\n...                0   \n",
       "195  RT @racingsocialnft: Guys today we have an AMA...                0   \n",
       "197  RT @Formula1arg1: #SaudiArabianGP🇸🇦 | 🚨Según e...                0   \n",
       "198  RT @racingsocialnft: Guys today we have an AMA...                0   \n",
       "199  RT @racingsocialnft: Guys today we have an AMA...                0   \n",
       "\n",
       "     retweet_count                 created_at language  is_retweet  \\\n",
       "1                1  2022-03-22 15:08:49+00:00       en       False   \n",
       "4                5  2022-03-22 15:08:42+00:00       es       False   \n",
       "5                0  2022-03-22 15:07:30+00:00       en       False   \n",
       "6                0  2022-03-22 15:06:34+00:00       en       False   \n",
       "8                0  2022-03-22 15:05:52+00:00       es       False   \n",
       "..             ...                        ...      ...         ...   \n",
       "194              1  2022-03-22 14:18:17+00:00       en       False   \n",
       "195            155  2022-03-22 14:18:07+00:00       en       False   \n",
       "197             19  2022-03-22 14:17:47+00:00       es       False   \n",
       "198            155  2022-03-22 14:17:46+00:00       en       False   \n",
       "199            155  2022-03-22 14:17:39+00:00       en       False   \n",
       "\n",
       "           user_name  \n",
       "1            THC_IPA  \n",
       "4        marcelotade  \n",
       "5    Diamondcoatings  \n",
       "6      F1Philippines  \n",
       "8      el_Clausulazo  \n",
       "..               ...  \n",
       "194         f1fantwo  \n",
       "195      1234567Bt21  \n",
       "197     Formula1arg1  \n",
       "198           Drmdwn  \n",
       "199          yniemey  \n",
       "\n",
       "[147 rows x 7 columns]"
      ]
     },
     "execution_count": 160,
     "metadata": {},
     "output_type": "execute_result"
    }
   ],
   "source": [
    "df2 = df.loc[(df[\"language\"]==\"en\") | (df[\"language\"]==\"es\") | (df[\"language\"]==\"it\") | (df[\"language\"]==\"tr\")]\n",
    "df2"
   ]
  },
  {
   "cell_type": "code",
   "execution_count": 161,
   "id": "0ba7416f-d1e2-4e6e-9f34-a07fc8246e5d",
   "metadata": {},
   "outputs": [
    {
     "data": {
      "text/plain": [
       "<AxesSubplot:xlabel='language', ylabel='retweet_count'>"
      ]
     },
     "execution_count": 161,
     "metadata": {},
     "output_type": "execute_result"
    },
    {
     "data": {
      "image/png": "[encoded data removed]",
      "text/plain": [
       "<Figure size 432x288 with 1 Axes>"
      ]
     },
     "metadata": {},
     "output_type": "display_data"
    }
   ],
   "source": [
    "sns.set_theme(style=\"white\", context=\"talk\")\n",
    "sns.barplot(data = df2, x = \"language\", y = \"retweet_count\", hue = \"is_retweet\", ci=None)"
   ]
  },
  {
   "cell_type": "code",
   "execution_count": 162,
   "id": "31b097f2-474d-4bd1-8726-b1fb1deb85e7",
   "metadata": {},
   "outputs": [
    {
     "name": "stdout",
     "output_type": "stream",
     "text": [
      "-) 👤 Christian Horner\n",
      "\n",
      "🎙 \"Bence Ferrari, yarışta bize kıyasla biraz daha hızlıydı. Fakat olumlu taraftan bakarsak, sıralama turlarında ilk çizgi için yarışabilecek, Charles'la galibiyet için çekişecek bir aracımız var.\"\n",
      "\n",
      "#Formula1 https://t.co/ZpUoIpol1D\n",
      "-) Sorry guys... Still i rise\n",
      "Remeber Fortune Favor The Brave\n",
      "@LoadedLions_CDC @cryptocom @cryptocomnft \n",
      "#LoadedLions #cryptocom #cdc #cro #FFTB #nft #crypto #formula1 @F1 #F1 https://t.co/xgKHvrRwY9\n",
      "-) #F1 | #Schumacher: \"Dopo il testacoda non ero più a mio agio\"\n",
      "\n",
      "#Formula1 | #BahrainGP | #HaasF1 \n",
      "https://t.co/VVnEtH6MJB\n",
      "-) Not Max roasting Alex's fashion choices 😭\n",
      "\n",
      "#F1 #Formula1 #MaxVerstappen #AlexAlbon #redbullracing #RedBull https://t.co/la9KF1QRHo\n",
      "-) Bölüm 10 - #BahrainGP yayında!\n",
      "\n",
      "🏁 2022 beklentileri ve #BahrainGP\n",
      "🏎 Sana “Kırmızı” çok yakışıyor…\n",
      "👁 Yarına kalsa da Yanına kalmaz…\n",
      " 🃏 Ortadoğu’da kartlar yeniden dağıtılıyor\n",
      "\n",
      "#Formula1 #F1 \n",
      "\n",
      "https://t.co/X7G0kMZHmb\n",
      "-) #f1 #formula1 #meme #gnergamer https://t.co/0GfqJ0C355\n",
      "-) Goat athletes for every sport + ranked\n",
      "#PGATour Tiger Woods 🏆\n",
      "#Olympics Phelps 🥈\n",
      "#NHL Gretz 🥉\n",
      "#Tennis Serena\n",
      "#NFL Tom\n",
      "#MLB Bonds\n",
      "#Football Messi\n",
      "#Formula1 Lewis\n",
      "#NBA Jordan\n",
      "#Boxing Ali\n",
      "Y’all rocking w this list? WWY change? https://t.co/6vAfsMA1uO\n",
      "-) La #F1 regresa al Gran Premio de Arabia Saudita y aquí te dejamos los horarios de todos los eventos.\n",
      "\n",
      "📺 TV: @FOXSportsMX3 - En vivo y con comerciales\n",
      "📺💻📱Streaming: F1 TV Pro - En vivo y sin comerciales\n",
      "\n",
      "#Formula1 #SaudiArabianGp #F12022 #RaceWeek #BreakingRace https://t.co/jVduzdPxEv\n",
      "-) Heikki Kovalainen 🇫🇮 Renault R27 (RS27 V8 90°) 🇫🇷 Grand Prix du Japon - Fuji Speedway 🇯🇵 2007 #F1 #Formula1 @F1 @H_Kovalainen \n",
      "\n",
      "Dans des conditions très piégeuses, Heikki signe son 1er podium en F1 en finissant 2ème, le seul podium de Renault lors de cette saison 2007... https://t.co/H9sB9OXkRz\n"
     ]
    }
   ],
   "source": [
    "rt_tweets = df.nlargest(10, \"favourite_count\")\n",
    "for i in range(9):\n",
    "    print(\"-) \" + rt_tweets[\"text\"].iloc[i])"
   ]
  },
  {
   "cell_type": "code",
   "execution_count": 163,
   "id": "c0e09240-9c65-4b53-92bd-260c3c9134ce",
   "metadata": {},
   "outputs": [
    {
     "data": {
      "text/html": [
       "<div>\n",
       "<style scoped>\n",
       "    .dataframe tbody tr th:only-of-type {\n",
       "        vertical-align: middle;\n",
       "    }\n",
       "\n",
       "    .dataframe tbody tr th {\n",
       "        vertical-align: top;\n",
       "    }\n",
       "\n",
       "    .dataframe thead th {\n",
       "        text-align: right;\n",
       "    }\n",
       "</style>\n",
       "<table border=\"1\" class=\"dataframe\">\n",
       "  <thead>\n",
       "    <tr style=\"text-align: right;\">\n",
       "      <th></th>\n",
       "      <th>text</th>\n",
       "      <th>favourite_count</th>\n",
       "      <th>retweet_count</th>\n",
       "      <th>created_at</th>\n",
       "      <th>language</th>\n",
       "      <th>is_retweet</th>\n",
       "      <th>user_name</th>\n",
       "    </tr>\n",
       "  </thead>\n",
       "  <tbody>\n",
       "    <tr>\n",
       "      <th>3</th>\n",
       "      <td>RT @SeviGraphics: 𝐅𝐞𝐫𝐫𝐚𝐫𝐢 𝐢𝐬 𝐛𝐚𝐜𝐤.\\n\\n@Charles...</td>\n",
       "      <td>0</td>\n",
       "      <td>244</td>\n",
       "      <td>2022-03-22 15:08:43+00:00</td>\n",
       "      <td>in</td>\n",
       "      <td>False</td>\n",
       "      <td>Fran_Gamen</td>\n",
       "    </tr>\n",
       "  </tbody>\n",
       "</table>\n",
       "</div>"
      ],
      "text/plain": [
       "                                                text  favourite_count  \\\n",
       "3  RT @SeviGraphics: 𝐅𝐞𝐫𝐫𝐚𝐫𝐢 𝐢𝐬 𝐛𝐚𝐜𝐤.\\n\\n@Charles...                0   \n",
       "\n",
       "   retweet_count                 created_at language  is_retweet   user_name  \n",
       "3            244  2022-03-22 15:08:43+00:00       in       False  Fran_Gamen  "
      ]
     },
     "execution_count": 163,
     "metadata": {},
     "output_type": "execute_result"
    }
   ],
   "source": [
    "df.nlargest(1, \"retweet_count\")"
   ]
  },
  {
   "cell_type": "code",
   "execution_count": 164,
   "id": "ed41ed31-b05a-46a3-9050-e1161b6b4b85",
   "metadata": {},
   "outputs": [
    {
     "name": "stdout",
     "output_type": "stream",
     "text": [
      "AlanGSuarez\n",
      "y2shanny\n",
      "FanArgentino\n",
      "Locuraydiseno\n",
      "VayaStreamers\n",
      "Bufilandia\n",
      "Patrici24060401\n",
      "WWEArgentina_OK\n",
      "MassimoSecchi\n",
      "JLzaro4\n",
      "AnnaCuerva21\n",
      "Gildardofoto\n",
      "GaleriaL86\n",
      "BreanaDaron\n",
      "Shethickyyy\n",
      "AbdulHazan3\n",
      "dosekarte\n",
      "_Mica_____\n",
      "AlexisCasusol\n",
      "KetaminaED\n"
     ]
    }
   ],
   "source": [
    "for follower in api.get_followers(screen_name = \"Fran_Gamen\"):\n",
    "    print(follower.screen_name)"
   ]
  },
  {
   "cell_type": "code",
   "execution_count": 165,
   "id": "3788658a-5946-47f5-863e-8bb2c2e5c131",
   "metadata": {},
   "outputs": [],
   "source": [
    "df[\"created_at\"] = pd.to_datetime(df[\"created_at\"])\n",
    "df[\"modified_date\"] = df[\"created_at\"].dt.strftime(\"%Y-%m-%d-%H\")"
   ]
  },
  {
   "cell_type": "code",
   "execution_count": 166,
   "id": "9d45b058-96eb-4378-b7a1-c6a15c23b3a0",
   "metadata": {},
   "outputs": [
    {
     "name": "stdout",
     "output_type": "stream",
     "text": [
      "modified_date\n",
      "2022-03-22-14    173\n",
      "2022-03-22-15     27\n",
      "Name: text, dtype: int64\n",
      "modified_date\n",
      "2022-03-22-14    97.069364\n",
      "2022-03-22-15    39.777778\n",
      "Name: retweet_count, dtype: float64\n"
     ]
    }
   ],
   "source": [
    "print(df.groupby([\"modified_date\"])[\"text\"].count())\n",
    "print(df.groupby([\"modified_date\"])[\"retweet_count\"].mean())"
   ]
  },
  {
   "cell_type": "code",
   "execution_count": 170,
   "id": "6e098b49-4a31-4961-97b8-c76cf511f31d",
   "metadata": {},
   "outputs": [
    {
     "data": {
      "text/plain": [
       "<AxesSubplot:xlabel='modified_date', ylabel='retweet_count'>"
      ]
     },
     "execution_count": 170,
     "metadata": {},
     "output_type": "execute_result"
    },
    {
     "data": {
      "image/png": "[encoded data removed]",
      "text/plain": [
       "<Figure size 432x288 with 1 Axes>"
      ]
     },
     "metadata": {},
     "output_type": "display_data"
    }
   ],
   "source": [
    "sns.lineplot(data = df, x=\"modified_date\", y=\"retweet_count\", ci = None) # unfortunately the graph doesn't show much since the range of dates is too narrow"
   ]
  },
  {
   "cell_type": "code",
   "execution_count": null,
   "id": "7f189ee0-2a8c-481c-9640-28c620c9e6a6",
   "metadata": {},
   "outputs": [],
   "source": []
  }
 ],
 "metadata": {
  "kernelspec": {
   "display_name": "Python 3 (ipykernel)",
   "language": "python",
   "name": "python3"
  },
  "language_info": {
   "codemirror_mode": {
    "name": "ipython",
    "version": 3
   },
   "file_extension": ".py",
   "mimetype": "text/x-python",
   "name": "python",
   "nbconvert_exporter": "python",
   "pygments_lexer": "ipython3",
   "version": "3.9.7"
  }
 },
 "nbformat": 4,
 "nbformat_minor": 5
}
